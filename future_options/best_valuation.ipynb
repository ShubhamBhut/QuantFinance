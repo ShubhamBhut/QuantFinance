{
 "cells": [
  {
   "cell_type": "code",
   "execution_count": 1,
   "metadata": {},
   "outputs": [],
   "source": [
    "import numpy as np\n",
    "import pandas as pd\n",
    "import plotly.express as px"
   ]
  },
  {
   "attachments": {},
   "cell_type": "markdown",
   "metadata": {},
   "source": [
    "Make proper function which can take input as points or percentages"
   ]
  },
  {
   "cell_type": "code",
   "execution_count": 32,
   "metadata": {},
   "outputs": [],
   "source": [
    "class contract:\n",
    "    def __init__(self, contract_type, contract_index_price, contract_price, days) -> None:\n",
    "        self.contract_type = contract_type\n",
    "        self.contract_index_price = contract_index_price\n",
    "        self.contract_price = contract_price\n",
    "        self.days = days\n",
    "    \n",
    "    current_index_price = 17944\n",
    "\n",
    "    def break_even_value(self):\n",
    "        if self.contract_type == \"call\":\n",
    "            return self.contract_index_price + self.contract_price\n",
    "        if self.contract_type == \"put\":\n",
    "            return self.contract_index_price - self.contract_price\n",
    "        else:\n",
    "            return('contract types can either be \"call\" or \"put\"')\n",
    "    \n",
    "    def percent_change_required(self):\n",
    "        return (self.break_even_value() - self.current_index_price)*100/self.current_index_price\n",
    "\n",
    "    def point_change_required(self):\n",
    "        return (self.break_even_value() - self.current_index_price)\n",
    "\n",
    "    def point_change_required_perday(self):\n",
    "        return (self.point_change_required()/self.days)"
   ]
  },
  {
   "cell_type": "code",
   "execution_count": 33,
   "metadata": {},
   "outputs": [],
   "source": [
    "contract_array =  [contract(\"call\", 18000, 72.90, 4), contract(\"put\", 18000, 123, 4), contract(\"call\", 18100, 39.2, 4)]"
   ]
  },
  {
   "cell_type": "code",
   "execution_count": 34,
   "metadata": {},
   "outputs": [
    {
     "ename": "AttributeError",
     "evalue": "'contract' object has no attribute 'type'",
     "output_type": "error",
     "traceback": [
      "\u001b[0;31m---------------------------------------------------------------------------\u001b[0m",
      "\u001b[0;31mAttributeError\u001b[0m                            Traceback (most recent call last)",
      "Cell \u001b[0;32mIn[34], line 2\u001b[0m\n\u001b[1;32m      1\u001b[0m \u001b[39mfor\u001b[39;00m i \u001b[39min\u001b[39;00m contract_array:\n\u001b[0;32m----> 2\u001b[0m     \u001b[39mprint\u001b[39m(contract\u001b[39m.\u001b[39;49mbreak_even_value(i))\n",
      "Cell \u001b[0;32mIn[32], line 11\u001b[0m, in \u001b[0;36mcontract.break_even_value\u001b[0;34m(self)\u001b[0m\n\u001b[1;32m     10\u001b[0m \u001b[39mdef\u001b[39;00m \u001b[39mbreak_even_value\u001b[39m(\u001b[39mself\u001b[39m):\n\u001b[0;32m---> 11\u001b[0m     \u001b[39mif\u001b[39;00m \u001b[39mself\u001b[39;49m\u001b[39m.\u001b[39;49mtype \u001b[39m==\u001b[39m \u001b[39m\"\u001b[39m\u001b[39mcall\u001b[39m\u001b[39m\"\u001b[39m:\n\u001b[1;32m     12\u001b[0m         \u001b[39mreturn\u001b[39;00m \u001b[39mself\u001b[39m\u001b[39m.\u001b[39mcontract_index_price \u001b[39m+\u001b[39m \u001b[39mself\u001b[39m\u001b[39m.\u001b[39mcontract_price\n\u001b[1;32m     13\u001b[0m     \u001b[39mif\u001b[39;00m \u001b[39mself\u001b[39m\u001b[39m.\u001b[39mtype \u001b[39m==\u001b[39m \u001b[39m\"\u001b[39m\u001b[39mput\u001b[39m\u001b[39m\"\u001b[39m:\n",
      "\u001b[0;31mAttributeError\u001b[0m: 'contract' object has no attribute 'type'"
     ]
    }
   ],
   "source": [
    "for i in contract_array:\n",
    "    print(contract.break_even_value(i))"
   ]
  },
  {
   "cell_type": "code",
   "execution_count": 30,
   "metadata": {},
   "outputs": [
    {
     "name": "stdout",
     "output_type": "stream",
     "text": [
      "0.718345965225153\n",
      "0.997547926883638\n",
      "1.0878288007133343\n"
     ]
    }
   ],
   "source": [
    "for i in contract_array:\n",
    "    print(contract.percent_change_required(i))"
   ]
  },
  {
   "cell_type": "code",
   "execution_count": 31,
   "metadata": {},
   "outputs": [
    {
     "name": "stdout",
     "output_type": "stream",
     "text": [
      "32.225000000000364\n",
      "44.75\n",
      "48.80000000000018\n"
     ]
    }
   ],
   "source": [
    "for i in contract_array:\n",
    "    print(contract.point_change_required_perday(i))"
   ]
  },
  {
   "cell_type": "code",
   "execution_count": null,
   "metadata": {},
   "outputs": [],
   "source": []
  }
 ],
 "metadata": {
  "kernelspec": {
   "display_name": "Python 3 (ipykernel)",
   "language": "python",
   "name": "python3"
  },
  "language_info": {
   "codemirror_mode": {
    "name": "ipython",
    "version": 3
   },
   "file_extension": ".py",
   "mimetype": "text/x-python",
   "name": "python",
   "nbconvert_exporter": "python",
   "pygments_lexer": "ipython3",
   "version": "3.11.1"
  },
  "orig_nbformat": 4
 },
 "nbformat": 4,
 "nbformat_minor": 2
}

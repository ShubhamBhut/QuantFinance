{
 "cells": [
  {
   "cell_type": "code",
   "execution_count": 40,
   "metadata": {},
   "outputs": [],
   "source": [
    "import numpy as np\n",
    "import pandas as pd\n",
    "import plotly.express as px"
   ]
  },
  {
   "attachments": {},
   "cell_type": "markdown",
   "metadata": {},
   "source": [
    "Make proper function which can take input as points or percentages"
   ]
  },
  {
   "cell_type": "code",
   "execution_count": 41,
   "metadata": {},
   "outputs": [],
   "source": [
    "class contract:\n",
    "    def __init__(self, contract_type, contract_index_price, contract_price, days) -> None:\n",
    "        self.contract_type = contract_type\n",
    "        self.contract_index_price = contract_index_price\n",
    "        self.contract_price = contract_price\n",
    "        self.days = days\n",
    "    \n",
    "    current_index_price = 17944\n",
    "\n",
    "    def break_even_value(self):\n",
    "        if self.contract_type == \"call\":\n",
    "            return self.contract_index_price + self.contract_price\n",
    "        if self.contract_type == \"put\":\n",
    "            return self.contract_index_price - self.contract_price\n",
    "        else:\n",
    "            return('contract types can either be \"call\" or \"put\"')\n",
    "    \n",
    "    def percent_change_required(self):\n",
    "        return (self.break_even_value() - self.current_index_price)*100/self.current_index_price\n",
    "\n",
    "    def point_change_required(self):\n",
    "        return (self.break_even_value() - self.current_index_price)\n",
    "\n",
    "    def point_change_required_perday(self):\n",
    "        return (self.point_change_required()/self.days)"
   ]
  },
  {
   "cell_type": "code",
   "execution_count": 42,
   "metadata": {},
   "outputs": [],
   "source": [
    "contract_array =  [contract(\"call\", 18000, 72.90, 4), contract(\"put\", 18000, 123, 4), contract(\"call\", 18100, 39.2, 4)]"
   ]
  },
  {
   "cell_type": "code",
   "execution_count": 43,
   "metadata": {},
   "outputs": [
    {
     "name": "stdout",
     "output_type": "stream",
     "text": [
      "18072.9\n",
      "17877\n",
      "18139.2\n"
     ]
    }
   ],
   "source": [
    "for i in contract_array:\n",
    "    print(contract.break_even_value(i))"
   ]
  },
  {
   "cell_type": "code",
   "execution_count": 44,
   "metadata": {},
   "outputs": [
    {
     "name": "stdout",
     "output_type": "stream",
     "text": [
      "0.718345965225153\n",
      "-0.37338386090057957\n",
      "1.0878288007133343\n"
     ]
    }
   ],
   "source": [
    "for i in contract_array:\n",
    "    print(contract.percent_change_required(i))"
   ]
  },
  {
   "cell_type": "code",
   "execution_count": 45,
   "metadata": {},
   "outputs": [
    {
     "name": "stdout",
     "output_type": "stream",
     "text": [
      "32.225000000000364\n",
      "-16.75\n",
      "48.80000000000018\n"
     ]
    }
   ],
   "source": [
    "for i in contract_array:\n",
    "    print(contract.point_change_required_perday(i))"
   ]
  },
  {
   "cell_type": "code",
   "execution_count": null,
   "metadata": {},
   "outputs": [],
   "source": []
  }
 ],
 "metadata": {
  "kernelspec": {
   "display_name": "Python 3 (ipykernel)",
   "language": "python",
   "name": "python3"
  },
  "language_info": {
   "codemirror_mode": {
    "name": "ipython",
    "version": 3
   },
   "file_extension": ".py",
   "mimetype": "text/x-python",
   "name": "python",
   "nbconvert_exporter": "python",
   "pygments_lexer": "ipython3",
   "version": "3.11.1"
  },
  "orig_nbformat": 4
 },
 "nbformat": 4,
 "nbformat_minor": 2
}
